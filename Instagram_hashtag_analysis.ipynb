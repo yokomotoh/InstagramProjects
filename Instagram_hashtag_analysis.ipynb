{
 "cells": [
  {
   "cell_type": "markdown",
   "metadata": {},
   "source": [
    "## Instagram Hashtag Analysis In Python<br>\n",
    "<br>\n",
    "Extract description(hashtags) of a post from Instagram link.<br>\n",
    "    driver.get('https://www.instagram.com/p/Bakrxbnlx49/')"
   ]
  },
  {
   "cell_type": "code",
   "execution_count": null,
   "metadata": {},
   "outputs": [],
   "source": [
    "pip install pandas"
   ]
  },
  {
   "cell_type": "code",
   "execution_count": 5,
   "metadata": {},
   "outputs": [
    {
     "name": "stdout",
     "output_type": "stream",
     "text": [
      "['japaneseversion', 'ワイン', 'フランスワイン', 'ボルドー', 'ワイン醸造学']\n"
     ]
    }
   ],
   "source": [
    "\"\"\"\n",
    "Created on Mon Sep  9 15:29:48 2019\n",
    "Instagram Hashtag Analysis In Python\n",
    "@author: yoko\n",
    "\"\"\"\n",
    "\n",
    "from selenium import webdriver\n",
    "from bs4 import BeautifulSoup\n",
    "import pandas as pd\n",
    "import datetime\n",
    "import time        #note this line\n",
    "#from selenium.webdriver.support.ui import WebDriverWait\n",
    "\n",
    "driver = webdriver.Chrome()\n",
    " \n",
    "# Extract description of a post from Instagram link\n",
    "#driver.get('https://www.instagram.com/p/BiRnjDsFKzl/')\n",
    "driver.get('https://www.instagram.com/p/Bakrxbnlx49/')\n",
    "soup = BeautifulSoup(driver.page_source,\"lxml\")\n",
    "desc = \" \"\n",
    " \n",
    "for item in soup.findAll('a'):\n",
    "    desc= desc + \" \" + str(item.string)\n",
    " \n",
    "# Extract tag list from Instagram post description\n",
    "taglist = desc.split()\n",
    "taglist = [x for x in taglist if x.startswith('#')]\n",
    "index = 0\n",
    "while index < len(taglist):\n",
    "    taglist[index] = taglist[index].strip('#')\n",
    "    index += 1\n",
    " \n",
    "# (OR) Copy-paste your tag list manually here\n",
    "#taglist = ['art', 'instaart', 'iblackwork']\n",
    " \n",
    "print(taglist)"
   ]
  },
  {
   "cell_type": "markdown",
   "metadata": {},
   "source": [
    "Extract total number of posts in each hashtags.<b>\n",
    "Extract all post links from 'explore tags' page.\n",
    "Needed to extract post frequency of recent posts.\n",
    "Extract the posting time of 1st and 9th most recent post for a tag.<br>\n",
    "Calculate time difference between posts for obtaining posting frequency."
   ]
  },
  {
   "cell_type": "code",
   "execution_count": 6,
   "metadata": {},
   "outputs": [
    {
     "name": "stdout",
     "output_type": "stream",
     "text": [
      "japaneseversion : 15,240\n",
      "257\n",
      "ワイン : 3,338,630\n",
      "0\n",
      "フランスワイン : 42,425\n",
      "0\n",
      "ボルドー : 305,488\n",
      "0\n",
      "ワイン醸造学 : 1\n",
      "0\n",
      "           Hashtag Number of Posts Posting Freq (mins)\n",
      "0  japaneseversion          15,240                 257\n",
      "1              ワイン       3,338,630                   0\n",
      "2          フランスワイン          42,425                   0\n",
      "3             ボルドー         305,488                   0\n",
      "4           ワイン醸造学               1                   0\n"
     ]
    }
   ],
   "source": [
    "# Define dataframe to store hashtag information\n",
    "tag_df  = pd.DataFrame(columns = ['Hashtag', 'Number of Posts', 'Posting Freq (mins)'])\n",
    "tag_dataframe = []\n",
    " \n",
    "# Loop over each hashtag to extract information\n",
    "for tag in taglist:\n",
    "     \n",
    "    driver.get('https://www.instagram.com/explore/tags/'+str(tag))\n",
    "\n",
    "### for non english problem\n",
    "    time.sleep(12)        #note this as well moreover it should be after get method \n",
    "#    post = WebDriverWait(driver, 10).until(\n",
    "#            lambda driver: driver.find_element_by_class_name('g47SY')\n",
    "#            )\n",
    "\n",
    "###\n",
    "\n",
    "    soup = BeautifulSoup(driver.page_source,\"lxml\")\n",
    "     \n",
    "    # Extract current hashtag name\n",
    "    tagname = tag\n",
    "    # Extract total number of posts in this hashtag\n",
    "    # NOTE: Class name may change in the website code\n",
    "    # Get the latest class name by inspecting web code\n",
    "\n",
    "    if soup.find(\"span\", class_=\"g47SY\") is None:\n",
    "        nposts = \"1\"\n",
    "        print(tagname + ' : ' + nposts)\n",
    "    else:\n",
    "        nposts = soup.find(\"span\", class_=\"g47SY\").text\n",
    "#    nposts = soup.find('span', {'class': 'g47SY'}).text \n",
    "        print(tagname + ' : ' + nposts)\n",
    "     \n",
    "    # Extract all post links from 'explore tags' page\n",
    "    # Needed to extract post frequency of recent posts\n",
    "    myli = []\n",
    "    for a in soup.find_all('a', href=True):\n",
    "        myli.append(a['href'])\n",
    " \n",
    "    # Keep link of only 1st and 9th most recent post \n",
    "    newmyli = [x for x in myli if x.startswith('/p/')]\n",
    "    del newmyli[:9]\n",
    "    del newmyli[9:]\n",
    "    del newmyli[1:8]\n",
    " \n",
    "    timediff = []\n",
    " \n",
    "    # Extract the posting time of 1st and 9th most recent post for a tag\n",
    "    for j in range(len(newmyli)):\n",
    "        driver.get('https://www.instagram.com'+str(newmyli[j]))\n",
    "        soup = BeautifulSoup(driver.page_source,\"lxml\")\n",
    " \n",
    "        for i in soup.findAll('time'):\n",
    "            if i.has_attr('datetime'):\n",
    "                timediff.append(i['datetime'])\n",
    "                #print(i['datetime'])\n",
    " \n",
    "    # Calculate time difference between posts\n",
    "    # For obtaining posting frequency\n",
    "    if timediff==[]:\n",
    "        pfreq=0\n",
    "    else:\n",
    "        datetimeFormat = '%Y-%m-%dT%H:%M:%S.%fZ'\n",
    "        diff = datetime.datetime.strptime(timediff[0], datetimeFormat) - datetime.datetime.strptime(timediff[1], datetimeFormat)\n",
    "        pfreq= int(diff.total_seconds()/(9*60))\n",
    "    print(pfreq)\n",
    "    \n",
    "    # Add hashtag info to dataframe\n",
    "    tag_df.loc[len(tag_df)] = [tagname, nposts, pfreq]\n",
    "    #add_hashtag_tag_df = pd.DataFrame([tagname, nposts, pfreq])\n",
    "    #tag_df.append(add_hashtag_tag_df)\n",
    "#    tag_dataframe.append([tagname, nposts, pfreq])\n",
    "        \n",
    "driver.quit()\n",
    "\n",
    "# Check the final dataframe\n",
    "print(tag_df)\n",
    " \n",
    "# CSV output for hashtag analysis\n",
    "#tag_df.to_csv('hashtag_list.csv')"
   ]
  },
  {
   "cell_type": "code",
   "execution_count": 7,
   "metadata": {},
   "outputs": [
    {
     "name": "stdout",
     "output_type": "stream",
     "text": [
      "[NbConvertApp] Converting notebook Instagram_hashtag_analysis.ipynb to html\n",
      "[NbConvertApp] Writing 289811 bytes to Instagram_hashtag_analysis.html\n"
     ]
    }
   ],
   "source": [
    "!jupyter nbconvert --to html Instagram_hashtag_analysis.ipynb"
   ]
  },
  {
   "cell_type": "code",
   "execution_count": null,
   "metadata": {},
   "outputs": [],
   "source": []
  }
 ],
 "metadata": {
  "kernelspec": {
   "display_name": "Python 3",
   "language": "python",
   "name": "python3"
  },
  "language_info": {
   "codemirror_mode": {
    "name": "ipython",
    "version": 3
   },
   "file_extension": ".py",
   "mimetype": "text/x-python",
   "name": "python",
   "nbconvert_exporter": "python",
   "pygments_lexer": "ipython3",
   "version": "3.7.3"
  }
 },
 "nbformat": 4,
 "nbformat_minor": 2
}
